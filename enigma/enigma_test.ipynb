{
 "cells": [
  {
   "cell_type": "code",
   "execution_count": 28,
   "id": "bbc8ad37-93ca-4468-8b53-70bc7d71603d",
   "metadata": {},
   "outputs": [],
   "source": [
    "import pickle\n",
    "import sys"
   ]
  },
  {
   "cell_type": "code",
   "execution_count": 27,
   "id": "af3b832f-5d01-453c-bcc7-e5e8c5747902",
   "metadata": {},
   "outputs": [],
   "source": [
    "alphabet = 'abcdefghijklmnopqrstuvwxyz '\n",
    "plugboard = {'a':'a','b':'b'}"
   ]
  },
  {
   "cell_type": "code",
   "execution_count": 26,
   "id": "d4ecf5c3-6483-4456-a610-f3d43b307249",
   "metadata": {},
   "outputs": [],
   "source": [
    "f = open('./todays_rotor_state.enigma', 'rb')\n",
    "r1, r2, r3 = pickle.load(f)\n",
    "f.close()\n"
   ]
  },
  {
   "cell_type": "code",
   "execution_count": 25,
   "id": "9b408e7c-d728-4a47-b5c0-0bbeb14bb815",
   "metadata": {},
   "outputs": [],
   "source": [
    "def reflector(c):\n",
    "    return alphabet[len(alphabet)-alphabet.find(c)-1]\n"
   ]
  },
  {
   "cell_type": "code",
   "execution_count": 24,
   "id": "190fa8de-779d-4af7-b43d-7143023758b0",
   "metadata": {},
   "outputs": [],
   "source": [
    "def enigma_one_char(c):\n",
    "    c1 = r1[alphabet.find(c)]\n",
    "    c2 = r2[alphabet.find(c1)]\n",
    "    c3 = r3[alphabet.find(c2)]\n",
    "    reflected = reflector(c3)\n",
    "    c3 = alphabet[r3.find(reflected)]\n",
    "    c2 = alphabet[r2.find(c3)]\n",
    "    c1 = alphabet[r1.find(c2)]\n",
    "\n",
    "    return c1"
   ]
  },
  {
   "cell_type": "code",
   "execution_count": 23,
   "id": "fe9f6a24-6035-4034-b014-0797c529754f",
   "metadata": {},
   "outputs": [
    {
     "ename": "SyntaxError",
     "evalue": "'return' outside function (1069021808.py, line 1)",
     "output_type": "error",
     "traceback": [
      "\u001b[0;36m  Input \u001b[0;32mIn [23]\u001b[0;36m\u001b[0m\n\u001b[0;31m    return c1\u001b[0m\n\u001b[0m    ^\u001b[0m\n\u001b[0;31mSyntaxError\u001b[0m\u001b[0;31m:\u001b[0m 'return' outside function\n"
     ]
    }
   ],
   "source": [
    "    return c1"
   ]
  },
  {
   "cell_type": "code",
   "execution_count": 21,
   "id": "5ce6f06d-b144-438e-8c2f-b9e8cad749b5",
   "metadata": {},
   "outputs": [],
   "source": [
    "def rotate_rotors():\n",
    "    global r1, r2, r3\n",
    "    r1 = r1[1:] + r1[0]\n",
    "    if state % 26 == 0:\n",
    "        r2 = r2[1:] + r2[0]\n",
    "    if state % (26*26) == 0:\n",
    "        r3 = r3[1:] + r3[0]\n"
   ]
  },
  {
   "cell_type": "code",
   "execution_count": 22,
   "id": "c528d577-e343-40ec-abea-c9d4b92899a5",
   "metadata": {},
   "outputs": [
    {
     "name": "stdout",
     "output_type": "stream",
     "text": [
      "Please enter your message.\n"
     ]
    }
   ],
   "source": [
    "if not len(sys.argv) == 2:\n",
    "    print(\"Please enter your message.\")"
   ]
  },
  {
   "cell_type": "code",
   "execution_count": 36,
   "id": "9068f831-94d9-4445-a908-9d0df9d0223d",
   "metadata": {},
   "outputs": [
    {
     "name": "stdout",
     "output_type": "stream",
     "text": [
      "Please enter your message.\n"
     ]
    }
   ],
   "source": [
    "if not len(sys.argv) == 2:\n",
    "    print(\"Please enter your message.\")\n",
    "else:\n",
    "    plain = sys.argv[1]\n",
    "    cipher = ''\n",
    "    state = 0\n",
    "\n",
    "    for c in plain:\n",
    "        if c in plugboard.keys():\n",
    "            c = plugboard[c]\n",
    "        state += 1\n",
    "        cipher += enigma_one_char(c)\n",
    "        rotate_rotors()\n",
    "\n",
    "    print(cipher)\n"
   ]
  }
 ],
 "metadata": {
  "kernelspec": {
   "display_name": "Python 3 (ipykernel)",
   "language": "python",
   "name": "python3"
  },
  "language_info": {
   "codemirror_mode": {
    "name": "ipython",
    "version": 3
   },
   "file_extension": ".py",
   "mimetype": "text/x-python",
   "name": "python",
   "nbconvert_exporter": "python",
   "pygments_lexer": "ipython3",
   "version": "3.10.4"
  }
 },
 "nbformat": 4,
 "nbformat_minor": 5
}
